{
 "cells": [
  {
   "cell_type": "markdown",
   "metadata": {},
   "source": [
    "# Salmon classification with the bivariate Gaussian\n",
    "\n",
    "In this assigment, you will predict if a fish is an 'Alaskan' salmon or a 'Canadian' salmon.\n",
    "\n",
    "The algorithm you will use a generative algorithm.  Where you model each class as a **bivariate Gaussian**. (A Bivariate Gaussian is a Multivariate Gaussian distribution with two features.)"
   ]
  },
  {
   "cell_type": "markdown",
   "metadata": {},
   "source": [
    "## Step 0. Import statements\n",
    "\n",
    "The Python programming language, as most programming languages, is augmented by **modules**.  These modules contain functions and classes for specialized tasks needed in machine learning.\n",
    "\n",
    "Below, we will `import` three modules:\n",
    "* **pandas**\n",
    "* **numpy**\n",
    "* **matplotlib.pyplot**\n",
    "\n",
    "Note that we imported these modules using **aliases**"
   ]
  },
  {
   "cell_type": "code",
   "execution_count": 3,
   "metadata": {},
   "outputs": [],
   "source": [
    "# Standard libraries\n",
    "%matplotlib inline\n",
    "import pandas as pd\n",
    "import numpy as np # for better array operations\n",
    "import matplotlib.pyplot as plt # plotting utilities \n",
    "\n",
    "# Module computing the Gaussian density\n",
    "from scipy.stats import norm, multivariate_normal \n"
   ]
  },
  {
   "cell_type": "markdown",
   "metadata": {},
   "source": [
    "## Step 1. Data preparation: loading, understanding and cleaning the dataset"
   ]
  },
  {
   "cell_type": "markdown",
   "metadata": {},
   "source": [
    "### Importing the dataset\n",
    "Make sure the file `Salmon_dataset.csv` is in the same directory as this notebook.\n",
    "\n",
    "The dataset contains 100  examples, each example has 3 features (*gender, Freshwater, marine*) and a label (*Alaskan, Canadian*)."
   ]
  },
  {
   "cell_type": "code",
   "execution_count": 15,
   "metadata": {},
   "outputs": [
    {
     "data": {
      "text/html": [
       "<div>\n",
       "<style scoped>\n",
       "    .dataframe tbody tr th:only-of-type {\n",
       "        vertical-align: middle;\n",
       "    }\n",
       "\n",
       "    .dataframe tbody tr th {\n",
       "        vertical-align: top;\n",
       "    }\n",
       "\n",
       "    .dataframe thead th {\n",
       "        text-align: right;\n",
       "    }\n",
       "</style>\n",
       "<table border=\"1\" class=\"dataframe\">\n",
       "  <thead>\n",
       "    <tr style=\"text-align: right;\">\n",
       "      <th></th>\n",
       "      <th>Gender</th>\n",
       "      <th>Freshwater</th>\n",
       "      <th>Marine</th>\n",
       "      <th>Origin</th>\n",
       "    </tr>\n",
       "  </thead>\n",
       "  <tbody>\n",
       "    <tr>\n",
       "      <th>0</th>\n",
       "      <td>2</td>\n",
       "      <td>108</td>\n",
       "      <td>368</td>\n",
       "      <td>Alaskan</td>\n",
       "    </tr>\n",
       "    <tr>\n",
       "      <th>1</th>\n",
       "      <td>1</td>\n",
       "      <td>131</td>\n",
       "      <td>355</td>\n",
       "      <td>Alaskan</td>\n",
       "    </tr>\n",
       "    <tr>\n",
       "      <th>2</th>\n",
       "      <td>1</td>\n",
       "      <td>105</td>\n",
       "      <td>469</td>\n",
       "      <td>Alaskan</td>\n",
       "    </tr>\n",
       "    <tr>\n",
       "      <th>3</th>\n",
       "      <td>2</td>\n",
       "      <td>86</td>\n",
       "      <td>506</td>\n",
       "      <td>Alaskan</td>\n",
       "    </tr>\n",
       "    <tr>\n",
       "      <th>4</th>\n",
       "      <td>1</td>\n",
       "      <td>99</td>\n",
       "      <td>402</td>\n",
       "      <td>Alaskan</td>\n",
       "    </tr>\n",
       "  </tbody>\n",
       "</table>\n",
       "</div>"
      ],
      "text/plain": [
       "   Gender  Freshwater  Marine   Origin\n",
       "0       2         108     368  Alaskan\n",
       "1       1         131     355  Alaskan\n",
       "2       1         105     469  Alaskan\n",
       "3       2          86     506  Alaskan\n",
       "4       1          99     402  Alaskan"
      ]
     },
     "execution_count": 15,
     "metadata": {},
     "output_type": "execute_result"
    }
   ],
   "source": [
    "# Loading the data set using Panda's in a dataframe \n",
    "\n",
    "df = pd.read_csv('Salmon_dataset.csv', delimiter=',') \n",
    "\n",
    "#Lets check that everything worked before continuing on\n",
    "df.head()"
   ]
  },
  {
   "cell_type": "markdown",
   "metadata": {},
   "source": [
    "### Data preprocesssing\n",
    "We will change the labels 'Alaskan' and 'Canadian' to $0$ and $1$ respectively.  In our code it is easier to work with numerical values instead of strings.\n",
    "\n",
    "Often we will do more dataprepocessing, such as looking for missing values and scaling the data though that is NOT required for this assignment yet. "
   ]
  },
  {
   "cell_type": "code",
   "execution_count": 16,
   "metadata": {},
   "outputs": [
    {
     "data": {
      "text/html": [
       "<div>\n",
       "<style scoped>\n",
       "    .dataframe tbody tr th:only-of-type {\n",
       "        vertical-align: middle;\n",
       "    }\n",
       "\n",
       "    .dataframe tbody tr th {\n",
       "        vertical-align: top;\n",
       "    }\n",
       "\n",
       "    .dataframe thead th {\n",
       "        text-align: right;\n",
       "    }\n",
       "</style>\n",
       "<table border=\"1\" class=\"dataframe\">\n",
       "  <thead>\n",
       "    <tr style=\"text-align: right;\">\n",
       "      <th></th>\n",
       "      <th>Gender</th>\n",
       "      <th>Freshwater</th>\n",
       "      <th>Marine</th>\n",
       "      <th>Origin</th>\n",
       "    </tr>\n",
       "  </thead>\n",
       "  <tbody>\n",
       "    <tr>\n",
       "      <th>0</th>\n",
       "      <td>2</td>\n",
       "      <td>108</td>\n",
       "      <td>368</td>\n",
       "      <td>0</td>\n",
       "    </tr>\n",
       "    <tr>\n",
       "      <th>1</th>\n",
       "      <td>1</td>\n",
       "      <td>131</td>\n",
       "      <td>355</td>\n",
       "      <td>0</td>\n",
       "    </tr>\n",
       "    <tr>\n",
       "      <th>2</th>\n",
       "      <td>1</td>\n",
       "      <td>105</td>\n",
       "      <td>469</td>\n",
       "      <td>0</td>\n",
       "    </tr>\n",
       "    <tr>\n",
       "      <th>3</th>\n",
       "      <td>2</td>\n",
       "      <td>86</td>\n",
       "      <td>506</td>\n",
       "      <td>0</td>\n",
       "    </tr>\n",
       "    <tr>\n",
       "      <th>4</th>\n",
       "      <td>1</td>\n",
       "      <td>99</td>\n",
       "      <td>402</td>\n",
       "      <td>0</td>\n",
       "    </tr>\n",
       "  </tbody>\n",
       "</table>\n",
       "</div>"
      ],
      "text/plain": [
       "   Gender  Freshwater  Marine  Origin\n",
       "0       2         108     368       0\n",
       "1       1         131     355       0\n",
       "2       1         105     469       0\n",
       "3       2          86     506       0\n",
       "4       1          99     402       0"
      ]
     },
     "execution_count": 16,
     "metadata": {},
     "output_type": "execute_result"
    }
   ],
   "source": [
    "# It is easier to work with the data if the labels are integers\n",
    "# Changing the 'Origin' column values, map 'Alaskan':0 and 'Canadian':1\n",
    "df['Origin']=df.Origin.map({'Alaskan':0, 'Canadian':1})\n",
    "\n",
    "#Lets check that everything worked before continuing on\n",
    "df.head()"
   ]
  },
  {
   "cell_type": "code",
   "execution_count": 17,
   "metadata": {},
   "outputs": [],
   "source": [
    "# We will store the dataframe as a Numpy array\n",
    "data = df.to_numpy() \n",
    "\n",
    "# Split the examples into a training set (trainx, trainy) and test set (testx, testy) \n",
    "\n",
    "########## Splitting the Dataset ##########\n",
    "n =  data.shape[0] # the number of rows\n",
    "train_n = int(.9*n) # this test set is a bit small to really evaluate our hypothesis - what could we do to get a better estimate and still keep most of the data to estimate our parameters?\n",
    "np.random.seed(0) # Our code randomly chooses which examples will be the training data, but for grading purposes we want the random numbers used to seperate the data are the same for everyone\n",
    "perm = np.random.permutation(n)\n",
    "trainx = data[perm[0:train_n],1:3] #selecting the two of the features `Freshwater' and 'Marine'\n",
    "trainy = data[perm[0:train_n],3]\n",
    "testx = data[perm[train_n:n], 1:3] # We won't look at the testx data until it is time to evauate our hypothesis.  This numpy array contains the set of test data for the assignment\n",
    "testy = data[perm[train_n:n],3]\n",
    "\n",
    "##########\n"
   ]
  },
  {
   "cell_type": "markdown",
   "metadata": {},
   "source": [
    "### Plotting the dataset\n",
    "Visualization can be helpful when exploring and getting to know a dataset."
   ]
  },
  {
   "cell_type": "code",
   "execution_count": 18,
   "metadata": {},
   "outputs": [
    {
     "data": {
      "text/plain": [
       "[<matplotlib.lines.Line2D at 0x1c094e4e910>]"
      ]
     },
     "execution_count": 18,
     "metadata": {},
     "output_type": "execute_result"
    },
    {
     "data": {
      "image/png": "[encoded data removed]",
      "text/plain": [
       "<Figure size 640x480 with 1 Axes>"
      ]
     },
     "metadata": {},
     "output_type": "display_data"
    }
   ],
   "source": [
    "# plotting the Alaskan salmon as a green dot\n",
    "plt.plot(trainx[trainy==0,0], trainx[trainy==0,1], marker='o', ls='None', c='g')\n",
    "# plotting the Canadian salmon as a red dot\n",
    "plt.plot(trainx[trainy==1,0], trainx[trainy==1,1], marker='o', ls='None', c='r')"
   ]
  },
  {
   "cell_type": "markdown",
   "metadata": {},
   "source": [
    "## Step 2. Model training: implementing Gaussian Discriminant Analysis\n",
    "\n",
    "In our first lecture, we discussed an algorithm which is actually a specific variant of Gaussian Discriminant Analysis (GDA).  In our next lecture will cover the broader, general case of GDA.\n"
   ]
  },
  {
   "cell_type": "markdown",
   "metadata": {},
   "source": [
    "### Sufficient Statistics\n",
    "To implement this specific GDA variant from scratch, we'll first determine the Gaussian's sufficient statistics. \n",
    "\n",
    "For a multivariate Gaussian distribution, the sufficient statistics are the mean vector and the covariance matrix.\n",
    "\n",
    "`fit_gaussian` function: This function will compute the mean and covariance of a Gaussian distribution for a given set of examples. In machine learning terminology, \"fitting\" is about tailoring a model to best depict the data. For our purpose, \"fitting the Gaussian\" translates to finding the best mean and covariance matrix for the given dataset.\n",
    "\n",
    "Please refer to the lecture notes for the formulas needed to compute the mean and covariance."
   ]
  },
  {
   "cell_type": "code",
   "execution_count": 19,
   "metadata": {},
   "outputs": [],
   "source": [
    "# Input: a design matrix\n",
    "# Output: a numpy array containing the means for each feature, and a 2-dimensional numpy array containng the covariance matrix sigma\n",
    "def fit_gaussian(x):\n",
    " \n",
    " \n",
    "########## TO DO ##########\n",
    "\n",
    "    # Compute the mean\n",
    "    \n",
    "    # find the covariance:\n",
    "    \n",
    "    # get the covariance matrix sigma\n",
    "\n",
    "\n",
    "\n",
    "\n",
    " mu=np.mean(x,axis=0)\n",
    " l=0\n",
    " for c in x.T:\n",
    "     if(l==0):\n",
    "         l=l+1\n",
    "         a=c\n",
    "     else:\n",
    "        b=c;    \n",
    " \t\n",
    " \n",
    " \n",
    " sigma=np.cov(a,b,bias=True)\n",
    "    \n",
    "##########\n",
    " return mu,sigma\n",
    "\n",
    "\n"
   ]
  },
  {
   "cell_type": "markdown",
   "metadata": {},
   "source": [
    "### Write the rest of your code here"
   ]
  },
  {
   "cell_type": "code",
   "execution_count": 24,
   "metadata": {},
   "outputs": [
    {
     "name": "stdout",
     "output_type": "stream",
     "text": [
      "The mean parameter of the alaskan salmon is found to be\n",
      "[ 99.22222222 428.64444444]\n",
      "The mean parameter of the canadian salmon is found to be\n",
      "[136.93333333 366.64444444]\n",
      "The covariance matrix of the alaskan salmon is found to be\n",
      "[[ 264.35061728 -212.54320988]\n",
      " [-212.54320988 1386.2291358 ]]\n",
      "The covariance matrix of the canadian salmon is found to be\n",
      "[[338.24       162.82074074]\n",
      " [162.82074074 712.85135802]]\n"
     ]
    }
   ],
   "source": [
    "\n",
    "\n",
    "d=0\n",
    "alaskan=[]\n",
    "canadian=[]\n",
    "for i in trainx:\n",
    "    if(trainy[d]==0):\n",
    "        alaskan.append(i)\n",
    "        \n",
    "        \n",
    "\n",
    "        d=d+1\n",
    "\n",
    "    else:\n",
    "        canadian.append(i)\n",
    "        \n",
    "\n",
    "        d=d+1\n",
    "\n",
    "\n",
    "ala=np.array(alaskan)\n",
    "cana=np.array(canadian)\n",
    "mean_alask,co_alask = fit_gaussian(ala)\n",
    "mean_canad,co_canad=fit_gaussian(cana)\n",
    "\n",
    "\n",
    "print('The mean parameter of the alaskan salmon is found to be')\n",
    "print(mean_alask)\n",
    "\n",
    "print('The mean parameter of the canadian salmon is found to be')\n",
    "print(mean_canad)\n",
    "\n",
    "print('The covariance matrix of the alaskan salmon is found to be')\n",
    "print(co_alask)\n",
    "\n",
    "print('The covariance matrix of the canadian salmon is found to be')\n",
    "print(co_canad)\n",
    "\n",
    "\n",
    "\n",
    "predictions=[]\n",
    "\n",
    "for i in testx:\n",
    "    a=multivariate_normal.pdf(i,mean_alask,co_alask)\n",
    "    b=multivariate_normal.pdf(i,mean_canad,co_canad)\n",
    "\n",
    "    if(a>b):\n",
    "        predictions.append(0)\n",
    "    else:\n",
    "        predictions.append(1)    \n",
    "    \n",
    "\n",
    "\n",
    "\n",
    "\n",
    "\n"
   ]
  },
  {
   "cell_type": "markdown",
   "metadata": {},
   "source": [
    "### On your own\n",
    "\n",
    "Evaluate the classifier's performance in predicting the examples stored in `testx`."
   ]
  },
  {
   "cell_type": "code",
   "execution_count": 36,
   "metadata": {},
   "outputs": [
    {
     "name": "stdout",
     "output_type": "stream",
     "text": [
      "The predictions found are the following\n",
      "[144 403]       Canadian\n",
      "[ 76 442]       Alaskan\n",
      "[100 470]       Alaskan\n",
      "[155 349]       Canadian\n",
      "[ 99 403]       Alaskan\n",
      "[124 341]       Canadian\n",
      "[136 438]       Alaskan\n",
      "[152 301]       Canadian\n",
      "[ 99 481]       Alaskan\n",
      "[ 80 398]       Alaskan\n",
      "The accuracy is : 0.9\n"
     ]
    }
   ],
   "source": [
    "c=0\n",
    "print('The predictions found are the following')\n",
    "i=0\n",
    "for l in testx:\n",
    "    if(predictions[i]==0):\n",
    "\n",
    "        print(l,\"     \",\"Alaskan\")\n",
    "        i=i+1;\n",
    "    else:\n",
    "        print(l,\"     \",\"Canadian\")\n",
    "        i=i+1\n",
    "\n",
    "\n",
    "for i in range(len(testy)):\n",
    "    if(testy[i]==predictions[i]):\n",
    "        c=c+1\n",
    "    else:\n",
    "        c=c+0\n",
    "\n",
    "\n",
    "\n",
    "\n",
    "\n",
    "print('The accuracy is :',c/len(testy))"
   ]
  }
 ],
 "metadata": {
  "kernelspec": {
   "display_name": "Python 3 (ipykernel)",
   "language": "python",
   "name": "python3"
  },
  "language_info": {
   "codemirror_mode": {
    "name": "ipython",
    "version": 3
   },
   "file_extension": ".py",
   "mimetype": "text/x-python",
   "name": "python",
   "nbconvert_exporter": "python",
   "pygments_lexer": "ipython3",
   "version": "3.11.4"
  },
  "toc": {
   "colors": {
    "hover_highlight": "#DAA520",
    "navigate_num": "#000000",
    "navigate_text": "#333333",
    "running_highlight": "#FF0000",
    "selected_highlight": "#FFD700",
    "sidebar_border": "#EEEEEE",
    "wrapper_background": "#FFFFFF"
   },
   "moveMenuLeft": true,
   "nav_menu": {
    "height": "12px",
    "width": "252px"
   },
   "navigate_menu": true,
   "number_sections": false,
   "sideBar": true,
   "threshold": 4,
   "toc_cell": false,
   "toc_section_display": "block",
   "toc_window_display": false,
   "widenNotebook": false
  }
 },
 "nbformat": 4,
 "nbformat_minor": 1
}
