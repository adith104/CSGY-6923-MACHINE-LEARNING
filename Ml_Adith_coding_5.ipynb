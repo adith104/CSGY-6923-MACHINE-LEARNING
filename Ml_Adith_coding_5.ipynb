{
 "cells": [
  {
   "cell_type": "markdown",
   "metadata": {},
   "source": [
    "# Programming Assignment 5 - Logistic Regression \n",
    "\n",
    "## In this assignment:\n",
    "\n",
    "You'll employ gradient ascent to determine weights for a logistic regression problem focused on diagnosing breast cancer.\n",
    "\n",
    "### Dataset Overview:\n",
    "\n",
    "The **Breast Cancer Wisconsin dataset** is a widely-recognized collection of features manually recorded by physicians from fine needle aspiration samples. The primary objective is to determine whether the cells are benign or malignant based on these features. \n",
    "\n",
    "**Dataset details:** [Breast Cancer Wisconsin dataset](https://archive.ics.uci.edu/ml/machine-learning-databases/breast-cancer-wisconsin)\n",
    "\n",
    "Each sample from the dataset is derived from a digitized image of a fine needle aspirate (FNA) of a breast mass. These images are processed to extract characteristics of cell nuclei, which are instrumental in the diagnostic process.\n",
    "\n",
    "### Features:\n",
    "\n",
    "The dataset consists of ten real-valued features that provide various measurements related to the cell nucleus:\n",
    "\n",
    "1. **Radius:** Mean of distances from the center to points on the perimeter.\n",
    "2. **Texture:** Standard deviation of gray-scale values.\n",
    "3. **Perimeter**\n",
    "4. **Area**\n",
    "5. **Smoothness:** Local variation in radius lengths.\n",
    "6. **Compactness:** \\( \\frac{\\text{perimeter}^2}{\\text{area}} - 1.0 \\)\n",
    "7. **Concavity:** Severity of concave portions of the contour.\n",
    "8. **Concave Points:** Number of concave portions of the contour.\n",
    "9. **Symmetry**\n",
    "10. **Fractal Dimension:** \"Coastline approximation\" - 1.\n",
    "\n",
    "### Task:\n",
    "\n",
    "Your mission is to use logistic regression on the provided features to predict whether a tumor is benign or malignant. Successfully doing so can greatly aid in early diagnosis, ultimately leading to saved lives.\n"
   ]
  },
  {
   "cell_type": "markdown",
   "metadata": {},
   "source": [
    "## Step 1:  Getting, preprocessing, and understanding the dataset"
   ]
  },
  {
   "cell_type": "markdown",
   "metadata": {},
   "source": [
    "### Importing the standard libraries\n",
    "\n",
    "### Essential Libraries\n",
    "\n",
    "- **NumPy**: A library for numerical operations in Python.\n",
    "- **Matplotlib**: Provides a way to visualize data.\n",
    "\n",
    "### Scikit-learn Utilities\n",
    "\n",
    "- **load_breast_cancer**: Dataset included in Scikit-learn for breast cancer classification.\n",
    "- **preprocessing**: Contains methods for preparing data before applying learning algorithms.\n",
    "- **train_test_split**: A utility function to split data into training and testing sets.\n",
    "\n",
    "> **Note**: Using the `%matplotlib inline` command ensures that Matplotlib visualizations are rendered directly within the notebook.\n"
   ]
  },
  {
   "cell_type": "code",
   "execution_count": 1,
   "metadata": {},
   "outputs": [],
   "source": [
    "# Essential libraries\n",
    "import numpy as np\n",
    "import matplotlib.pyplot as plt\n",
    "\n",
    "# Scikit-learn utilities\n",
    "from sklearn.datasets import load_breast_cancer \n",
    "from sklearn import preprocessing \n",
    "from sklearn.model_selection import train_test_split \n",
    "\n",
    "# Set up matplotlib for inline display\n",
    "%matplotlib inline"
   ]
  },
  {
   "cell_type": "markdown",
   "metadata": {},
   "source": [
    "### Importing the dataset"
   ]
  },
  {
   "cell_type": "code",
   "execution_count": 2,
   "metadata": {},
   "outputs": [],
   "source": [
    "# Loading the dataset\n",
    "cancer = load_breast_cancer()\n",
    "\n",
    "y = cancer.target\n",
    "X = cancer.data"
   ]
  },
  {
   "cell_type": "code",
   "execution_count": 3,
   "metadata": {},
   "outputs": [
    {
     "name": "stdout",
     "output_type": "stream",
     "text": [
      "(569, 30)\n",
      "(569,)\n"
     ]
    }
   ],
   "source": [
    "# Printing the shape of data (X) and target (Y) values \n",
    "print(X.shape)\n",
    "print(y.shape)"
   ]
  },
  {
   "cell_type": "markdown",
   "metadata": {},
   "source": [
    "### Data Pre-Processing\n",
    "\n",
    "### Splitting the Data\n",
    "We divide our dataset into a training set and a testing set:\n",
    "- **Training Set**: 75%\n",
    "- **Testing Set**: 25%\n",
    "\n",
    "Use the `train_test_split` function to achieve this split:\n",
    "- Assign results to: `X_train`, `X_test`, `y_train`, `y_test`\n",
    "- Set `random_state` to 42 to ensure reproducibility.\n",
    "\n",
    "\n"
   ]
  },
  {
   "cell_type": "code",
   "execution_count": 4,
   "metadata": {},
   "outputs": [],
   "source": [
    "# Split the data using train_test_split\n",
    "X_train, X_test, y_train, y_test = train_test_split(X, y,random_state=42)"
   ]
  },
  {
   "cell_type": "markdown",
   "metadata": {},
   "source": [
    "### Scaling the Data Using Standard Scaler\n",
    "\n",
    "Since we are using gradient ascent, it's important to scale our data to ensure faster convergence. One of the most common methods to scale data is to use the `Standard Scaler`.\n",
    "\n",
    "The `Standard Scaler` normalizes the features by subtracting the mean and scaling to unit variance. \n",
    "\n",
    "Using `Standard Scaler`, each feature will have a mean of 0 and a standard deviation of 1 post-scaling.\n"
   ]
  },
  {
   "cell_type": "code",
   "execution_count": 5,
   "metadata": {},
   "outputs": [],
   "source": [
    "scaler = preprocessing.StandardScaler().fit(X_train)\n",
    "X_train = scaler.transform(X_train)\n",
    "X_test = scaler.transform(X_test)"
   ]
  },
  {
   "cell_type": "code",
   "execution_count": 9,
   "metadata": {},
   "outputs": [
    {
     "name": "stdout",
     "output_type": "stream",
     "text": [
      "(426, 30)\n",
      "(426,)\n"
     ]
    }
   ],
   "source": [
    "# TODO - Print the shape of x_train and y_train \n",
    "\n",
    "print(X_train.shape)\n",
    "print(y_train.shape)\n",
    "##\n",
    " # When you print the shape of x_train, it should print (426, 30)\n",
    " # When you print the shape of y_train, it should print (426,)"
   ]
  },
  {
   "cell_type": "markdown",
   "metadata": {},
   "source": [
    "#### Adding a Bias Term to $X_{\\text{train}}$ and $X_{\\text{test}}$\n",
    "To account for the intercept term in our logistic regression model, we augment our feature matrices with a column of ones. This is often referred to as the bias term.\n",
    "\n",
    "Given our original matrix:\n",
    "$$X_{\\text{train}}=\\left[\\begin{matrix}\n",
    "x^{(1)}_1& x^{(1)}_2 &\\ldots& x^{(1)}_d\\\\\n",
    "x^{(2)}_1& x^{(2)}_2 &\\ldots& x^{(2)}_d\\\\\n",
    "\\vdots & \\vdots &\\ddots & \\vdots \\\\\n",
    "x^{(N')}_1& x^{(N')}_2 &\\ldots& x^{(N')}_d\\\\\n",
    "\\end{matrix}\\right]$$\n",
    "\n",
    "We add a column of ones:\n",
    "$$ X_{\\text{train}}=\\left[\\begin{matrix}\n",
    "1& x^{(1)}_1& x^{(1)}_2 &\\ldots& x^{(1)}_d\\\\\n",
    "1& x^{(2)}_1& x^{(2)}_2 &\\ldots& x^{(2)}_d\\\\\n",
    "\\vdots & \\vdots &\\vdots &\\ddots & \\vdots \\\\\n",
    "1& x^{(N')}_1& x^{(N')}_2 &\\ldots& x^{(N')}_d\\\\\n",
    "\\end{matrix}\\right]$$\n",
    "\n",
    "Similarly, we augment $X_{\\text{test}}$ with a column of ones. This allows our algorithm to learn an intercept term without needing special handling."
   ]
  },
  {
   "cell_type": "code",
   "execution_count": 10,
   "metadata": {},
   "outputs": [
    {
     "name": "stdout",
     "output_type": "stream",
     "text": [
      "The trainng data has dimensions:  (426, 31) . The testing data has dimensions:  (143, 31)\n",
      "[[ 1.         -0.34913849 -1.43851335 -0.41172595 -0.39047943 -1.86366229\n",
      "  -1.26860704 -0.82617052 -0.95286585 -1.72936805 -0.9415409  -0.86971355\n",
      "  -1.35865347 -0.83481506 -0.57230673 -0.74586846 -0.65398319 -0.52583524\n",
      "  -0.94677147 -0.53781728 -0.63449458 -0.54268486 -1.65565452 -0.58986401\n",
      "  -0.52555985 -1.51066925 -0.89149994 -0.75021715 -0.91671059 -0.92508585\n",
      "  -0.80841115]\n",
      " [ 1.         -0.20468665  0.31264011 -0.13367256 -0.27587995  1.07807258\n",
      "   0.86354605  0.72631375  0.89844062  1.17876963  1.47437716 -0.04022275\n",
      "  -0.50962253  0.10947722 -0.13472838 -0.52489487 -0.14934475  0.07460028\n",
      "   0.23747244 -0.43028253  0.08289146  0.04148684  0.68989862  0.19412774\n",
      "  -0.05193356  1.12941497  0.92394223  1.22221738  1.43655962  1.14955889\n",
      "   1.56911143]]\n"
     ]
    }
   ],
   "source": [
    "# Appending a column of ones to x_train \n",
    "\n",
    "# Step 1: Create a column vector of ones (i.e. a vector of shape N',1)\n",
    "ones = np.ones(X_train.shape[0]).reshape((X_train.shape[0], 1))\n",
    "\n",
    "# Step 2: Append a column of ones in the beginning of x_train\n",
    "X_train = np.hstack((ones, X_train))\n",
    "\n",
    "\n",
    "# Now do the same for the test data\n",
    "# Step 1: Create a column vector of ones (i.e. a vector of shape N\",1)\n",
    "ones = np.ones(X_test.shape[0]).reshape((X_test.shape[0], 1))\n",
    "\n",
    "# Stemp 2: Append a column of ones in the beginning of x_test\n",
    "X_test = np.hstack((ones, X_test))\n",
    "\n",
    "\n",
    "# We can check that everything worked correctly by:\n",
    "# Printing out the new dimensions\n",
    "print(\"The trainng data has dimensions: \", X_train.shape, \". The testing data has dimensions: \",X_test.shape)\n",
    "\n",
    "# Looking at the first two rows of X_train to check everything worked as expected\n",
    "print(X_train[0:2])"
   ]
  },
  {
   "cell_type": "markdown",
   "metadata": {},
   "source": [
    "### Reshaping the Target Vectors\n",
    "\n",
    "due to the broadcasting feature in libraries like NumPy, if we're not careful with the shapes of our matrices, we might unintentionally compute the outer product instead of the desired inner product. This can lead to unexpected results and potential bugs in the algorithm. Reshaping the target vectors into 2D arrays helps prevent such issues."
   ]
  },
  {
   "cell_type": "code",
   "execution_count": 11,
   "metadata": {},
   "outputs": [],
   "source": [
    "y_train = y_train.reshape(y_train.shape[0],1)\n",
    "y_test = y_test.reshape((y_test.shape[0],1))"
   ]
  },
  {
   "cell_type": "markdown",
   "metadata": {},
   "source": [
    "### Understanding the dataset"
   ]
  },
  {
   "cell_type": "code",
   "execution_count": 12,
   "metadata": {},
   "outputs": [
    {
     "name": "stdout",
     "output_type": "stream",
     "text": [
      ".. _breast_cancer_dataset:\n",
      "\n",
      "Breast cancer wisconsin (diagnostic) dataset\n",
      "--------------------------------------------\n",
      "\n",
      "**Data Set Characteristics:**\n",
      "\n",
      "    :Number of Instances: 569\n",
      "\n",
      "    :Number of Attributes: 30 numeric, predictive attributes and the class\n",
      "\n",
      "    :Attribute Information:\n",
      "        - radius (mean of distances from center to points on the perimeter)\n",
      "        - texture (standard deviation of gray-scale values)\n",
      "        - perimeter\n",
      "        - area\n",
      "        - smoothness (local variation in radius lengths)\n",
      "        - compactness (perimeter^2 / area - 1.0)\n",
      "        - concavity (severity of concave portions of the contour)\n",
      "        - concave points (number of concave portions of the contour)\n",
      "        - symmetry\n",
      "        - fractal dimension (\"coastline approximation\" - 1)\n",
      "\n",
      "        The mean, standard error, and \"worst\" or largest (mean of the three\n",
      "        worst/largest values) of these features were computed for each image,\n",
      "        resulting in 30 features.  For instance, field 0 is Mean Radius, field\n",
      "        10 is Radius SE, field 20 is Worst Radius.\n",
      "\n",
      "        - class:\n",
      "                - WDBC-Malignant\n",
      "                - WDBC-Benign\n",
      "\n",
      "    :Summary Statistics:\n",
      "\n",
      "    ===================================== ====== ======\n",
      "                                           Min    Max\n",
      "    ===================================== ====== ======\n",
      "    radius (mean):                        6.981  28.11\n",
      "    texture (mean):                       9.71   39.28\n",
      "    perimeter (mean):                     43.79  188.5\n",
      "    area (mean):                          143.5  2501.0\n",
      "    smoothness (mean):                    0.053  0.163\n",
      "    compactness (mean):                   0.019  0.345\n",
      "    concavity (mean):                     0.0    0.427\n",
      "    concave points (mean):                0.0    0.201\n",
      "    symmetry (mean):                      0.106  0.304\n",
      "    fractal dimension (mean):             0.05   0.097\n",
      "    radius (standard error):              0.112  2.873\n",
      "    texture (standard error):             0.36   4.885\n",
      "    perimeter (standard error):           0.757  21.98\n",
      "    area (standard error):                6.802  542.2\n",
      "    smoothness (standard error):          0.002  0.031\n",
      "    compactness (standard error):         0.002  0.135\n",
      "    concavity (standard error):           0.0    0.396\n",
      "    concave points (standard error):      0.0    0.053\n",
      "    symmetry (standard error):            0.008  0.079\n",
      "    fractal dimension (standard error):   0.001  0.03\n",
      "    radius (worst):                       7.93   36.04\n",
      "    texture (worst):                      12.02  49.54\n",
      "    perimeter (worst):                    50.41  251.2\n",
      "    area (worst):                         185.2  4254.0\n",
      "    smoothness (worst):                   0.071  0.223\n",
      "    compactness (worst):                  0.027  1.058\n",
      "    concavity (worst):                    0.0    1.252\n",
      "    concave points (worst):               0.0    0.291\n",
      "    symmetry (worst):                     0.156  0.664\n",
      "    fractal dimension (worst):            0.055  0.208\n",
      "    ===================================== ====== ======\n",
      "\n",
      "    :Missing Attribute Values: None\n",
      "\n",
      "    :Class Distribution: 212 - Malignant, 357 - Benign\n",
      "\n",
      "    :Creator:  Dr. William H. Wolberg, W. Nick Street, Olvi L. Mangasarian\n",
      "\n",
      "    :Donor: Nick Street\n",
      "\n",
      "    :Date: November, 1995\n",
      "\n",
      "This is a copy of UCI ML Breast Cancer Wisconsin (Diagnostic) datasets.\n",
      "https://goo.gl/U2Uwz2\n",
      "\n",
      "Features are computed from a digitized image of a fine needle\n",
      "aspirate (FNA) of a breast mass.  They describe\n",
      "characteristics of the cell nuclei present in the image.\n",
      "\n",
      "Separating plane described above was obtained using\n",
      "Multisurface Method-Tree (MSM-T) [K. P. Bennett, \"Decision Tree\n",
      "Construction Via Linear Programming.\" Proceedings of the 4th\n",
      "Midwest Artificial Intelligence and Cognitive Science Society,\n",
      "pp. 97-101, 1992], a classification method which uses linear\n",
      "programming to construct a decision tree.  Relevant features\n",
      "were selected using an exhaustive search in the space of 1-4\n",
      "features and 1-3 separating planes.\n",
      "\n",
      "The actual linear program used to obtain the separating plane\n",
      "in the 3-dimensional space is that described in:\n",
      "[K. P. Bennett and O. L. Mangasarian: \"Robust Linear\n",
      "Programming Discrimination of Two Linearly Inseparable Sets\",\n",
      "Optimization Methods and Software 1, 1992, 23-34].\n",
      "\n",
      "This database is also available through the UW CS ftp server:\n",
      "\n",
      "ftp ftp.cs.wisc.edu\n",
      "cd math-prog/cpo-dataset/machine-learn/WDBC/\n",
      "\n",
      ".. topic:: References\n",
      "\n",
      "   - W.N. Street, W.H. Wolberg and O.L. Mangasarian. Nuclear feature extraction \n",
      "     for breast tumor diagnosis. IS&T/SPIE 1993 International Symposium on \n",
      "     Electronic Imaging: Science and Technology, volume 1905, pages 861-870,\n",
      "     San Jose, CA, 1993.\n",
      "   - O.L. Mangasarian, W.N. Street and W.H. Wolberg. Breast cancer diagnosis and \n",
      "     prognosis via linear programming. Operations Research, 43(4), pages 570-577, \n",
      "     July-August 1995.\n",
      "   - W.H. Wolberg, W.N. Street, and O.L. Mangasarian. Machine learning techniques\n",
      "     to diagnose breast cancer from fine-needle aspirates. Cancer Letters 77 (1994) \n",
      "     163-171.\n"
     ]
    }
   ],
   "source": [
    "# Read through the description of the dataset by uncommenting the line of code below\n",
    "print(cancer.DESCR)"
   ]
  },
  {
   "cell_type": "code",
   "execution_count": 15,
   "metadata": {},
   "outputs": [
    {
     "name": "stdout",
     "output_type": "stream",
     "text": [
      "{'data': array([[1.799e+01, 1.038e+01, 1.228e+02, ..., 2.654e-01, 4.601e-01,\n",
      "        1.189e-01],\n",
      "       [2.057e+01, 1.777e+01, 1.329e+02, ..., 1.860e-01, 2.750e-01,\n",
      "        8.902e-02],\n",
      "       [1.969e+01, 2.125e+01, 1.300e+02, ..., 2.430e-01, 3.613e-01,\n",
      "        8.758e-02],\n",
      "       ...,\n",
      "       [1.660e+01, 2.808e+01, 1.083e+02, ..., 1.418e-01, 2.218e-01,\n",
      "        7.820e-02],\n",
      "       [2.060e+01, 2.933e+01, 1.401e+02, ..., 2.650e-01, 4.087e-01,\n",
      "        1.240e-01],\n",
      "       [7.760e+00, 2.454e+01, 4.792e+01, ..., 0.000e+00, 2.871e-01,\n",
      "        7.039e-02]]), 'target': array([0, 0, 0, 0, 0, 0, 0, 0, 0, 0, 0, 0, 0, 0, 0, 0, 0, 0, 0, 1, 1, 1,\n",
      "       0, 0, 0, 0, 0, 0, 0, 0, 0, 0, 0, 0, 0, 0, 0, 1, 0, 0, 0, 0, 0, 0,\n",
      "       0, 0, 1, 0, 1, 1, 1, 1, 1, 0, 0, 1, 0, 0, 1, 1, 1, 1, 0, 1, 0, 0,\n",
      "       1, 1, 1, 1, 0, 1, 0, 0, 1, 0, 1, 0, 0, 1, 1, 1, 0, 0, 1, 0, 0, 0,\n",
      "       1, 1, 1, 0, 1, 1, 0, 0, 1, 1, 1, 0, 0, 1, 1, 1, 1, 0, 1, 1, 0, 1,\n",
      "       1, 1, 1, 1, 1, 1, 1, 0, 0, 0, 1, 0, 0, 1, 1, 1, 0, 0, 1, 0, 1, 0,\n",
      "       0, 1, 0, 0, 1, 1, 0, 1, 1, 0, 1, 1, 1, 1, 0, 1, 1, 1, 1, 1, 1, 1,\n",
      "       1, 1, 0, 1, 1, 1, 1, 0, 0, 1, 0, 1, 1, 0, 0, 1, 1, 0, 0, 1, 1, 1,\n",
      "       1, 0, 1, 1, 0, 0, 0, 1, 0, 1, 0, 1, 1, 1, 0, 1, 1, 0, 0, 1, 0, 0,\n",
      "       0, 0, 1, 0, 0, 0, 1, 0, 1, 0, 1, 1, 0, 1, 0, 0, 0, 0, 1, 1, 0, 0,\n",
      "       1, 1, 1, 0, 1, 1, 1, 1, 1, 0, 0, 1, 1, 0, 1, 1, 0, 0, 1, 0, 1, 1,\n",
      "       1, 1, 0, 1, 1, 1, 1, 1, 0, 1, 0, 0, 0, 0, 0, 0, 0, 0, 0, 0, 0, 0,\n",
      "       0, 0, 1, 1, 1, 1, 1, 1, 0, 1, 0, 1, 1, 0, 1, 1, 0, 1, 0, 0, 1, 1,\n",
      "       1, 1, 1, 1, 1, 1, 1, 1, 1, 1, 1, 0, 1, 1, 0, 1, 0, 1, 1, 1, 1, 1,\n",
      "       1, 1, 1, 1, 1, 1, 1, 1, 1, 0, 1, 1, 1, 0, 1, 0, 1, 1, 1, 1, 0, 0,\n",
      "       0, 1, 1, 1, 1, 0, 1, 0, 1, 0, 1, 1, 1, 0, 1, 1, 1, 1, 1, 1, 1, 0,\n",
      "       0, 0, 1, 1, 1, 1, 1, 1, 1, 1, 1, 1, 1, 0, 0, 1, 0, 0, 0, 1, 0, 0,\n",
      "       1, 1, 1, 1, 1, 0, 1, 1, 1, 1, 1, 0, 1, 1, 1, 0, 1, 1, 0, 0, 1, 1,\n",
      "       1, 1, 1, 1, 0, 1, 1, 1, 1, 1, 1, 1, 0, 1, 1, 1, 1, 1, 0, 1, 1, 0,\n",
      "       1, 1, 1, 1, 1, 1, 1, 1, 1, 1, 1, 1, 0, 1, 0, 0, 1, 0, 1, 1, 1, 1,\n",
      "       1, 0, 1, 1, 0, 1, 0, 1, 1, 0, 1, 0, 1, 1, 1, 1, 1, 1, 1, 1, 0, 0,\n",
      "       1, 1, 1, 1, 1, 1, 0, 1, 1, 1, 1, 1, 1, 1, 1, 1, 1, 0, 1, 1, 1, 1,\n",
      "       1, 1, 1, 0, 1, 0, 1, 1, 0, 1, 1, 1, 1, 1, 0, 0, 1, 0, 1, 0, 1, 1,\n",
      "       1, 1, 1, 0, 1, 1, 0, 1, 0, 1, 0, 0, 1, 1, 1, 0, 1, 1, 1, 1, 1, 1,\n",
      "       1, 1, 1, 1, 1, 0, 1, 0, 0, 1, 1, 1, 1, 1, 1, 1, 1, 1, 1, 1, 1, 1,\n",
      "       1, 1, 1, 1, 1, 1, 1, 1, 1, 1, 1, 1, 0, 0, 0, 0, 0, 0, 1]), 'frame': None, 'target_names': array(['malignant', 'benign'], dtype='<U9'), 'DESCR': '.. _breast_cancer_dataset:\\n\\nBreast cancer wisconsin (diagnostic) dataset\\n--------------------------------------------\\n\\n**Data Set Characteristics:**\\n\\n    :Number of Instances: 569\\n\\n    :Number of Attributes: 30 numeric, predictive attributes and the class\\n\\n    :Attribute Information:\\n        - radius (mean of distances from center to points on the perimeter)\\n        - texture (standard deviation of gray-scale values)\\n        - perimeter\\n        - area\\n        - smoothness (local variation in radius lengths)\\n        - compactness (perimeter^2 / area - 1.0)\\n        - concavity (severity of concave portions of the contour)\\n        - concave points (number of concave portions of the contour)\\n        - symmetry\\n        - fractal dimension (\"coastline approximation\" - 1)\\n\\n        The mean, standard error, and \"worst\" or largest (mean of the three\\n        worst/largest values) of these features were computed for each image,\\n        resulting in 30 features.  For instance, field 0 is Mean Radius, field\\n        10 is Radius SE, field 20 is Worst Radius.\\n\\n        - class:\\n                - WDBC-Malignant\\n                - WDBC-Benign\\n\\n    :Summary Statistics:\\n\\n    ===================================== ====== ======\\n                                           Min    Max\\n    ===================================== ====== ======\\n    radius (mean):                        6.981  28.11\\n    texture (mean):                       9.71   39.28\\n    perimeter (mean):                     43.79  188.5\\n    area (mean):                          143.5  2501.0\\n    smoothness (mean):                    0.053  0.163\\n    compactness (mean):                   0.019  0.345\\n    concavity (mean):                     0.0    0.427\\n    concave points (mean):                0.0    0.201\\n    symmetry (mean):                      0.106  0.304\\n    fractal dimension (mean):             0.05   0.097\\n    radius (standard error):              0.112  2.873\\n    texture (standard error):             0.36   4.885\\n    perimeter (standard error):           0.757  21.98\\n    area (standard error):                6.802  542.2\\n    smoothness (standard error):          0.002  0.031\\n    compactness (standard error):         0.002  0.135\\n    concavity (standard error):           0.0    0.396\\n    concave points (standard error):      0.0    0.053\\n    symmetry (standard error):            0.008  0.079\\n    fractal dimension (standard error):   0.001  0.03\\n    radius (worst):                       7.93   36.04\\n    texture (worst):                      12.02  49.54\\n    perimeter (worst):                    50.41  251.2\\n    area (worst):                         185.2  4254.0\\n    smoothness (worst):                   0.071  0.223\\n    compactness (worst):                  0.027  1.058\\n    concavity (worst):                    0.0    1.252\\n    concave points (worst):               0.0    0.291\\n    symmetry (worst):                     0.156  0.664\\n    fractal dimension (worst):            0.055  0.208\\n    ===================================== ====== ======\\n\\n    :Missing Attribute Values: None\\n\\n    :Class Distribution: 212 - Malignant, 357 - Benign\\n\\n    :Creator:  Dr. William H. Wolberg, W. Nick Street, Olvi L. Mangasarian\\n\\n    :Donor: Nick Street\\n\\n    :Date: November, 1995\\n\\nThis is a copy of UCI ML Breast Cancer Wisconsin (Diagnostic) datasets.\\nhttps://goo.gl/U2Uwz2\\n\\nFeatures are computed from a digitized image of a fine needle\\naspirate (FNA) of a breast mass.  They describe\\ncharacteristics of the cell nuclei present in the image.\\n\\nSeparating plane described above was obtained using\\nMultisurface Method-Tree (MSM-T) [K. P. Bennett, \"Decision Tree\\nConstruction Via Linear Programming.\" Proceedings of the 4th\\nMidwest Artificial Intelligence and Cognitive Science Society,\\npp. 97-101, 1992], a classification method which uses linear\\nprogramming to construct a decision tree.  Relevant features\\nwere selected using an exhaustive search in the space of 1-4\\nfeatures and 1-3 separating planes.\\n\\nThe actual linear program used to obtain the separating plane\\nin the 3-dimensional space is that described in:\\n[K. P. Bennett and O. L. Mangasarian: \"Robust Linear\\nProgramming Discrimination of Two Linearly Inseparable Sets\",\\nOptimization Methods and Software 1, 1992, 23-34].\\n\\nThis database is also available through the UW CS ftp server:\\n\\nftp ftp.cs.wisc.edu\\ncd math-prog/cpo-dataset/machine-learn/WDBC/\\n\\n.. topic:: References\\n\\n   - W.N. Street, W.H. Wolberg and O.L. Mangasarian. Nuclear feature extraction \\n     for breast tumor diagnosis. IS&T/SPIE 1993 International Symposium on \\n     Electronic Imaging: Science and Technology, volume 1905, pages 861-870,\\n     San Jose, CA, 1993.\\n   - O.L. Mangasarian, W.N. Street and W.H. Wolberg. Breast cancer diagnosis and \\n     prognosis via linear programming. Operations Research, 43(4), pages 570-577, \\n     July-August 1995.\\n   - W.H. Wolberg, W.N. Street, and O.L. Mangasarian. Machine learning techniques\\n     to diagnose breast cancer from fine-needle aspirates. Cancer Letters 77 (1994) \\n     163-171.', 'feature_names': array(['mean radius', 'mean texture', 'mean perimeter', 'mean area',\n",
      "       'mean smoothness', 'mean compactness', 'mean concavity',\n",
      "       'mean concave points', 'mean symmetry', 'mean fractal dimension',\n",
      "       'radius error', 'texture error', 'perimeter error', 'area error',\n",
      "       'smoothness error', 'compactness error', 'concavity error',\n",
      "       'concave points error', 'symmetry error',\n",
      "       'fractal dimension error', 'worst radius', 'worst texture',\n",
      "       'worst perimeter', 'worst area', 'worst smoothness',\n",
      "       'worst compactness', 'worst concavity', 'worst concave points',\n",
      "       'worst symmetry', 'worst fractal dimension'], dtype='<U23'), 'filename': 'breast_cancer.csv', 'data_module': 'sklearn.datasets.data'}\n"
     ]
    }
   ],
   "source": [
    "# You can add your own code here to better understand the dataset\n",
    "print(cancer)"
   ]
  },
  {
   "cell_type": "markdown",
   "metadata": {},
   "source": [
    "\n",
    "# Step 2: Fitting the model\n",
    "\n",
    "## Implementing Logistic Regression Using Gradient Ascent\n",
    "\n",
    "\n",
    "You will perform the following steps:\n",
    "* write the sigmoid function $\\sigma(z)=\\frac{1}{1+e^{-z}}$\n",
    "* initialize ${\\bf w}$\n",
    "* prediction: write the function to compute the probability of every example in $X$ belonging to class one\n",
    "* write the log likelihood function (see lecture notes for the formula)\n",
    "* write the gradient ascent algorithm\n",
    "* plot the likelihood v/s the number of iterations\n",
    "* predict the class label (i.e. $0,1$) for every example in $X$ for a given ${\\bf w}$ and $t$\n",
    "* Evaluate your hypothesis by using your hypothesis to predict the label of the examples in the test set.  Using these predicted value you will then determine the precision, recall and F1 score of the test set"
   ]
  },
  {
   "cell_type": "markdown",
   "metadata": {},
   "source": [
    "\n",
    " \n",
    "### Sigmoid($z$)\n",
    "The first function you will write is sigmoid($z$)\n",
    "\n",
    "sigmoid($z$) takes as input a column vector of real numbers, $z^T = [z_1, z_2, ..., z_{N'}]$, where $N'$ is the number of  examples\n",
    "\n",
    "It should produce as output a column vector $\\left[\\frac{1}{1+e^{-z_1}},\\frac{1}{1+e^{-z_2}},...,\\frac{1}{1+e^{-z_{N'}}}\\right]^T$"
   ]
  },
  {
   "cell_type": "code",
   "execution_count": 35,
   "metadata": {},
   "outputs": [],
   "source": [
    "# TODO - Write the sigmoid function (z can be a scalar or a vector)\n",
    "def sigmoid(z):\n",
    "    ## TODO\n",
    "\n",
    "    if(isinstance(z,int)):\n",
    "        l=np.power(np.e,-z)\n",
    "        k=1/(1+l)\n",
    "        return k\n",
    "\n",
    "    g=[]\n",
    "    \n",
    "    for i in range(len(z)):\n",
    "        k=1/(1+np.power(np.e,-z[i]))\n",
    "        g.append(k)\n",
    "    \n",
    "\n",
    "\n",
    "    g1=np.array(g)\n",
    "    return g1\n",
    "    ## "
   ]
  },
  {
   "cell_type": "code",
   "execution_count": 36,
   "metadata": {},
   "outputs": [
    {
     "name": "stdout",
     "output_type": "stream",
     "text": [
      "0.5\n"
     ]
    }
   ],
   "source": [
    "# VERIFY - Sigmoid of 0 should be equal to 0.5\n",
    "print(sigmoid(0))"
   ]
  },
  {
   "cell_type": "markdown",
   "metadata": {},
   "source": [
    "### Initializing ${\\bf w}$\n",
    "For testing the next functions, we create a coefficient vector, ${\\bf w}$.\n",
    "We will initialize the coeffients to be $0$, i.e. ${\\bf w}^T = [0,0,\\ldots ,0]$ (We could have initialized ${\\bf w}$ with any values.)"
   ]
  },
  {
   "cell_type": "code",
   "execution_count": 73,
   "metadata": {},
   "outputs": [
    {
     "name": "stdout",
     "output_type": "stream",
     "text": [
      "(31, 1)\n"
     ]
    }
   ],
   "source": [
    "# Initialize parameters w\n",
    "## TODO\n",
    "w =np.zeros(X_train.shape[1])\n",
    "##\n",
    "w=w.reshape(X_train.shape[1],1)\n",
    "print(w.shape)"
   ]
  },
  {
   "cell_type": "markdown",
   "metadata": {},
   "source": [
    "### Prediction Function\n",
    "Complete the `hypothesis` function to compute the probability that each example in \\(X\\) belongs to class one. Specifically, it calculates:\n",
    "\n",
    "$$\\hat{\\bf y}=\\sigma(X{\\bf w})$$\n",
    "\n",
    "For a single example represented by the design matrix:\n",
    "\n",
    "$$X=[1,x_1,x_2,\\ldots,x_d]$$\n",
    "\n",
    "and the corresponding weight vector:\n",
    "\n",
    "$${\\bf w}^T=[w_0,w_1,\\ldots, w_d]$$\n",
    "\n",
    "The function returns the logistic regression prediction:\n",
    "\n",
    "$$h({\\bf x})=\\frac{1}{1+e^{-\\left({w_{0}\\cdot 1 +w_1\\cdot x_1+\\cdots +w_d\\cdot x_d}\\right)}}$$\n",
    "\n",
    "Given a matrix with $N'$ examples:\n",
    "\n",
    "$$X=\\left[\\begin{matrix}\n",
    "1& x^{(1)}_1& x^{(1)}_2 &\\ldots& x^{(1)}_d\\\\\n",
    "1& x^{(2)}_1& x^{(2)}_2 &\\ldots& x^{(2)}_d\\\\\n",
    "\\vdots & \\vdots &\\vdots &\\ddots & \\vdots \\\\\n",
    "1& x^{(N')}_1& x^{(N')}_2 &\\ldots& x^{(N')}_d\\\\\n",
    "\\end{matrix}\\right]$$\n",
    "\n",
    "with the same weight vector, the function will return:\n",
    "\n",
    "$$[h({\\bf x}^{(1)}),h({\\bf x}^{(2)}),\\ldots, h({\\bf x}^{(N')})]^T$$\n"
   ]
  },
  {
   "cell_type": "code",
   "execution_count": 87,
   "metadata": {},
   "outputs": [],
   "source": [
    "# predict the probability that a patient has cancer \n",
    "# TODO - Write the hypothesis function \n",
    "def hypothesis(X , w):\n",
    "    #TODO\n",
    "    hh=[]\n",
    "    ww=np.transpose(w)\n",
    "\n",
    "    for i in range(len(X)):\n",
    "        zz=np.dot(ww,X[i])\n",
    "        hh.append(zz)\n",
    "\n",
    "\n",
    "    g=sigmoid(hh)    \n",
    "    return g\n",
    "    ##"
   ]
  },
  {
   "cell_type": "markdown",
   "metadata": {},
   "source": [
    "Before moving on, do a quick check that your function can accpet a matrix as an argument. "
   ]
  },
  {
   "cell_type": "code",
   "execution_count": 112,
   "metadata": {},
   "outputs": [
    {
     "name": "stdout",
     "output_type": "stream",
     "text": [
      "(426, 1)\n",
      "(426, 1)\n"
     ]
    }
   ],
   "source": [
    "# Compute y_hat using our training examples and w (w is still set to zero).  \n",
    "# This is just a preliminary test of the hypotheis function\n",
    "\n",
    "\n",
    "yhat = hypothesis(X_train, w)\n",
    "\n",
    "# print the sizes of yhat and y as a first check that the function performed correctly\n",
    "\n",
    "print(yhat.shape) # this should return (426, 1)\n",
    "print(y_train.shape) # this should return (426,1)"
   ]
  },
  {
   "cell_type": "markdown",
   "metadata": {},
   "source": [
    "### Log-Likelihood Function\n",
    "\n",
    "Write the function to calculate the log-likelihood:\n",
    "\n",
    "$$\n",
    "\\ell({\\bf w})= \\sum_{i=1}^{N'} y^{(i)} \\ln(h({\\bf x}^{(i)})) + (1 - y^{(i)}) \\ln(1 - h({\\bf x}^{(i)}))\n",
    "$$\n",
    "\n",
    "Where:\n",
    "\n",
    "- **Input**:\n",
    "  - Design matrix with $N'$ examples:\n",
    "    \n",
    "   $$\n",
    "    X = \\left[\\begin{array}{cccc}\n",
    "    1 & x^{(1)}_1 & \\ldots & x^{(1)}_d \\\\\n",
    "    1 & x^{(2)}_1 & \\ldots & x^{(2)}_d \\\\\n",
    "    \\vdots & \\vdots & \\ddots & \\vdots \\\\\n",
    "    1 & x^{(N')}_1 & \\ldots & x^{(N')}_d \\\\\n",
    "    \\end{array}\\right]\n",
    "   $$\n",
    "    \n",
    "  - Column vector of labels for $X$:\n",
    "    \n",
    "  $$\n",
    "    {\\bf y}^T = [y^{(1)}, y^{(2)}, \\ldots, y^{(N')}]\n",
    "   $$\n",
    "  \n",
    "- **Output**:\n",
    "  - Log-likelihood value: $\\ell({\\bf w})$"
   ]
  },
  {
   "cell_type": "code",
   "execution_count": 100,
   "metadata": {},
   "outputs": [],
   "source": [
    "# TODO - Write the log likelihood function \n",
    "def log_likelihood(X , y , w):\n",
    "    ##TODO\n",
    "    yh=hypothesis(X,w)\n",
    "    s=0\n",
    "\n",
    "\n",
    "    for i in range(len(yh)):\n",
    "        a=np.log(yh[i])\n",
    "        b=np.log(1-yh[i])\n",
    "        c=y[i]*a\n",
    "        d=(1-y[i])*b\n",
    "        s=s+c+d\n",
    "\n",
    "\n",
    "\n",
    "    \n",
    "\n",
    "\n",
    "    log_likelihood=s\n",
    "    ##\n",
    "    return log_likelihood # you should return a real number, not a list containing a real number"
   ]
  },
  {
   "cell_type": "markdown",
   "metadata": {},
   "source": [
    "Before moving on, do a quick check of your log_likelihood function"
   ]
  },
  {
   "cell_type": "code",
   "execution_count": 101,
   "metadata": {},
   "outputs": [
    {
     "name": "stdout",
     "output_type": "stream",
     "text": [
      "[-295.28069892]\n"
     ]
    }
   ],
   "source": [
    "# VERIFY - The value should be equal to -295.2806989185367.\n",
    "print(log_likelihood(X_train, y_train, w))"
   ]
  },
  {
   "cell_type": "markdown",
   "metadata": {},
   "source": [
    "# Gradient Ascent\n",
    "Now write the code to perform gradient ascent.  You will use the update rule from the lecture notes."
   ]
  },
  {
   "cell_type": "code",
   "execution_count": 160,
   "metadata": {},
   "outputs": [],
   "source": [
    "# TODO - Write the gradient ascent function \n",
    "def Logistic_Regresion_Gradient_Ascent(X, y, learning_rate, num_iters):\n",
    "    # We assume X has been augmented with a column of ones\n",
    "    i=0\n",
    "    # Initiating list to store values of log-likelihood after 100 iterations \n",
    "    log_likelihood_values = []\n",
    "    # Initialize w to be a zero vector of shape x_train.shape[1],1\n",
    "    w = np.zeros((X.shape[1], 1))\n",
    "    \n",
    "    for i in range(num_iters): \n",
    "\n",
    "     \n",
    "    \n",
    "   \n",
    "    \n",
    "     # Initialize N to the number of training examples\n",
    "     N = X.shape[0] \n",
    "    \n",
    "     # Gradient Ascent - local optimization technique\n",
    "     ## TODO\n",
    "    \n",
    "     \n",
    "\n",
    "     \n",
    "         \n",
    "\n",
    "     \n",
    "     ##    \n",
    "     # Every 100 iterations, store the log_likelihood for the current w\n",
    "     if (i % 100) == 0:\n",
    "            curr_log_likelihood =log_likelihood(X,y,w)\n",
    "            log_likelihood_values.append(curr_log_likelihood)\n",
    "            # On your own, monitor the learning process, print the iteration number, the log-likelihood, ...\n",
    "\n",
    "\n",
    "     X_t=np.transpose(X)\n",
    "     g=y-hypothesis(X,w)\n",
    "\n",
    "     ee=np.matmul(X_t,g)\n",
    "     ee=(learning_rate/N)*ee\n",
    "     w=w+ee       \n",
    "        \n",
    "    return w, log_likelihood_values"
   ]
  },
  {
   "cell_type": "markdown",
   "metadata": {},
   "source": [
    "### After completing the code above, run the following"
   ]
  },
  {
   "cell_type": "code",
   "execution_count": 166,
   "metadata": {},
   "outputs": [
    {
     "name": "stdout",
     "output_type": "stream",
     "text": [
      "[[-0.1056701 ]\n",
      " [-0.03553097]\n",
      " [-0.0536691 ]\n",
      " [ 0.17221516]\n",
      " [-0.31116366]\n",
      " [-0.45434972]\n",
      " [ 2.75131896]\n",
      " [-1.30570826]\n",
      " [-3.03314808]\n",
      " [ 1.16803283]\n",
      " [-0.85636742]\n",
      " [-3.72793978]\n",
      " [ 0.72266145]\n",
      " [-0.80953786]\n",
      " [-2.47051644]\n",
      " [-0.40297532]\n",
      " [ 0.53078335]\n",
      " [ 0.03099043]\n",
      " [-1.27545053]\n",
      " [ 1.31001975]\n",
      " [ 2.1018566 ]\n",
      " [-1.64716699]\n",
      " [-2.84431473]\n",
      " [-0.20035616]\n",
      " [-1.77971341]\n",
      " [-0.16157425]\n",
      " [ 0.73553297]\n",
      " [-2.45713669]\n",
      " [-1.31520556]\n",
      " [-2.99931319]\n",
      " [-0.38232592]]\n"
     ]
    }
   ],
   "source": [
    "learning_rate = 0.5\n",
    "num_iters = 5000 # The number of iteratins to run the gradient ascent algorithm\n",
    "\n",
    "w, log_likelihood_values = Logistic_Regresion_Gradient_Ascent(X_train, y_train, learning_rate, num_iters)\n",
    "\n",
    "print(w)\n",
    "\n",
    "\n",
    "\n"
   ]
  },
  {
   "cell_type": "markdown",
   "metadata": {},
   "source": [
    "# Plotting Log-Likelihood v/s Number of Iterations."
   ]
  },
  {
   "cell_type": "code",
   "execution_count": 167,
   "metadata": {},
   "outputs": [
    {
     "data": {
      "image/png": "[encoded data removed]",
      "text/plain": [
       "<Figure size 640x480 with 1 Axes>"
      ]
     },
     "metadata": {},
     "output_type": "display_data"
    }
   ],
   "source": [
    "# Run this cell to plot Likelihood v/s Number of Iterations.\n",
    "iters = np.array(range(0,num_iters,100))\n",
    "plt.plot(iters,log_likelihood_values,'.-',color='green')\n",
    "plt.xlabel('Number of iterations')\n",
    "plt.ylabel('Log-Likelihood')\n",
    "plt.title(\"Log-Likelihood vs Number of Iterations.\")\n",
    "plt.grid()"
   ]
  },
  {
   "cell_type": "markdown",
   "metadata": {},
   "source": [
    "You should see the likelihood increasing as number of Iterations increase."
   ]
  },
  {
   "cell_type": "markdown",
   "metadata": {},
   "source": [
    "# Step 3: Evaluating your model"
   ]
  },
  {
   "cell_type": "code",
   "execution_count": 187,
   "metadata": {},
   "outputs": [
    {
     "name": "stdout",
     "output_type": "stream",
     "text": [
      "The accuracy  is : 97.2027972027972 %\n",
      "The percentage error is : 2.797202797202797\n",
      "The precision and recall of the classifier is  0.9885057471264368    0.9662921348314607  respectively.\n",
      "The f1 score is: 0.9772727272727273\n",
      "The confusion matrix is\n",
      "[[86  1]\n",
      " [ 3 53]]\n"
     ]
    }
   ],
   "source": [
    "\n",
    "yhat=hypothesis(X_test,w)\n",
    "\n",
    "for i in range(len(yhat)):\n",
    "    if(yhat[i]>0.5):\n",
    "        yhat[i]=1\n",
    "    else:\n",
    "        yhat[i]=0\n",
    "\n",
    "c=0\n",
    "for i in range(len(y_test)):\n",
    "    if(y_test[i]==yhat[i]):\n",
    "        c=c+1\n",
    "    else:\n",
    "        c=c+0\n",
    "\n",
    "\n",
    "print('The accuracy  is :',((c/len(y_test)))*100,'%')\n",
    "print('The percentage error is :',((len(y_test)-c)/len(y_test))*100)\n",
    "\n",
    "\n",
    "tp=0\n",
    "tn=0\n",
    "fp=0\n",
    "fn=0\n",
    "\n",
    "for i in range(len(y_test)):\n",
    "    if(y_test[i]==1 and yhat[i]==1):\n",
    "        tp=tp+1\n",
    "    elif(y_test[i]==1 and yhat[i]==0):\n",
    "        fn=fn+1\n",
    "    elif(y_test[i]==0 and yhat[i]==1):  \n",
    "        fp=fp+1\n",
    "    elif(y_test[i]==0 and yhat[i]==0):\n",
    "        tn=tn+1\n",
    "\n",
    "\n",
    "\n",
    "p=tp/(tp+fp)\n",
    "r=tp/(tp+fn)\n",
    "\n",
    "print('The precision and recall of the classifier is ',p,'  ',r,' respectively.')\n",
    "f1=(2*p*r)/(p+r)\n",
    "print('The f1 score is:',f1)\n",
    "co=np.array([[tp,fp],[fn,tn]])\n",
    "print('The confusion matrix is')\n",
    "print(co)\n",
    "\n",
    "        \n"
   ]
  },
  {
   "cell_type": "markdown",
   "metadata": {},
   "source": [
    "#  Experiment with different hyperparameter setting"
   ]
  },
  {
   "cell_type": "code",
   "execution_count": 194,
   "metadata": {},
   "outputs": [
    {
     "name": "stdout",
     "output_type": "stream",
     "text": [
      "The accuracy  is : 98.6013986013986 %\n",
      "The percentage error is : 1.3986013986013985\n",
      "The precision and recall of the classifier is  0.9887640449438202    0.9887640449438202  respectively.\n",
      "The f1 score is: 0.9887640449438202\n",
      "The confusion matrix is\n",
      "[[88  1]\n",
      " [ 1 53]]\n",
      "The accuracy  is : 97.9020979020979 %\n",
      "The percentage error is : 2.097902097902098\n",
      "The precision and recall of the classifier is  0.9886363636363636    0.9775280898876404  respectively.\n",
      "The f1 score is: 0.983050847457627\n",
      "The confusion matrix is\n",
      "[[87  1]\n",
      " [ 2 53]]\n",
      "The accuracy  is : 97.9020979020979 %\n",
      "The percentage error is : 2.097902097902098\n",
      "The precision and recall of the classifier is  0.9886363636363636    0.9775280898876404  respectively.\n",
      "The f1 score is: 0.983050847457627\n",
      "The confusion matrix is\n",
      "[[87  1]\n",
      " [ 2 53]]\n",
      "The accuracy  is : 97.2027972027972 %\n",
      "The percentage error is : 2.797202797202797\n",
      "The precision and recall of the classifier is  0.9885057471264368    0.9662921348314607  respectively.\n",
      "The f1 score is: 0.9772727272727273\n",
      "The confusion matrix is\n",
      "[[86  1]\n",
      " [ 3 53]]\n",
      "The accuracy  is : 97.2027972027972 %\n",
      "The percentage error is : 2.797202797202797\n",
      "The precision and recall of the classifier is  0.9885057471264368    0.9662921348314607  respectively.\n",
      "The f1 score is: 0.9772727272727273\n",
      "The confusion matrix is\n",
      "[[86  1]\n",
      " [ 3 53]]\n",
      "The accuracy  is : 97.2027972027972 %\n",
      "The percentage error is : 2.797202797202797\n",
      "The precision and recall of the classifier is  0.9885057471264368    0.9662921348314607  respectively.\n",
      "The f1 score is: 0.9772727272727273\n",
      "The confusion matrix is\n",
      "[[86  1]\n",
      " [ 3 53]]\n",
      "The accuracy  is : 97.2027972027972 %\n",
      "The percentage error is : 2.797202797202797\n",
      "The precision and recall of the classifier is  0.9885057471264368    0.9662921348314607  respectively.\n",
      "The f1 score is: 0.9772727272727273\n",
      "The confusion matrix is\n",
      "[[86  1]\n",
      " [ 3 53]]\n",
      "The accuracy  is : 97.2027972027972 %\n",
      "The percentage error is : 2.797202797202797\n",
      "The precision and recall of the classifier is  0.9885057471264368    0.9662921348314607  respectively.\n",
      "The f1 score is: 0.9772727272727273\n",
      "The confusion matrix is\n",
      "[[86  1]\n",
      " [ 3 53]]\n",
      "The accuracy  is : 97.2027972027972 %\n",
      "The percentage error is : 2.797202797202797\n",
      "The precision and recall of the classifier is  0.9885057471264368    0.9662921348314607  respectively.\n",
      "The f1 score is: 0.9772727272727273\n",
      "The confusion matrix is\n",
      "[[86  1]\n",
      " [ 3 53]]\n",
      "The accuracy  is : 97.2027972027972 %\n",
      "The percentage error is : 2.797202797202797\n",
      "The precision and recall of the classifier is  0.9885057471264368    0.9662921348314607  respectively.\n",
      "The f1 score is: 0.9772727272727273\n",
      "The confusion matrix is\n",
      "[[86  1]\n",
      " [ 3 53]]\n"
     ]
    }
   ],
   "source": [
    "learning_rate=0.05\n",
    "i=0\n",
    "\n",
    "for i in range(10):\n",
    "    \n",
    "    num_iters = 5000 \n",
    "\n",
    "    w, log_likelihood_values = Logistic_Regresion_Gradient_Ascent(X_train, y_train, learning_rate, num_iters)\n",
    "    learning_rate=learning_rate+0.1\n",
    "    \n",
    "    yhat=hypothesis(X_test,w)\n",
    "\n",
    "    for i in range(len(yhat)):\n",
    "       if(yhat[i]>0.5):\n",
    "            yhat[i]=1\n",
    "       else:\n",
    "          yhat[i]=0\n",
    "\n",
    "    c=0\n",
    "    for i in range(len(y_test)):\n",
    "      if(y_test[i]==yhat[i]):\n",
    "        c=c+1\n",
    "      else:\n",
    "        c=c+0\n",
    "\n",
    "\n",
    "    print('The accuracy  is :',((c/len(y_test)))*100,'%')\n",
    "    print('The percentage error is :',((len(y_test)-c)/len(y_test))*100)\n",
    "\n",
    "\n",
    "    tp=0\n",
    "    tn=0\n",
    "    fp=0\n",
    "    fn=0\n",
    "\n",
    "    for i in range(len(y_test)):\n",
    "      if(y_test[i]==1 and yhat[i]==1):\n",
    "          tp=tp+1\n",
    "      elif(y_test[i]==1 and yhat[i]==0):\n",
    "        fn=fn+1\n",
    "      elif(y_test[i]==0 and yhat[i]==1):  \n",
    "        fp=fp+1\n",
    "      elif(y_test[i]==0 and yhat[i]==0):\n",
    "        tn=tn+1\n",
    "\n",
    "\n",
    "\n",
    "    p=tp/(tp+fp)\n",
    "    r=tp/(tp+fn)\n",
    "\n",
    "    print('The precision and recall of the classifier is ',p,'  ',r,' respectively.')\n",
    "    f1=(2*p*r)/(p+r)\n",
    "    print('The f1 score is:',f1)\n",
    "    co=np.array([[tp,fp],[fn,tn]])\n",
    "    print('The confusion matrix is')\n",
    "    print(co)\n",
    "\n",
    "        \n",
    "\n",
    "#with a lower learning rate of 0.05 a higher accuracy precision recall and f1 score was obtained since the weights converge better \n",
    "\n"
   ]
  }
 ],
 "metadata": {
  "kernelspec": {
   "display_name": "Python 3 (ipykernel)",
   "language": "python",
   "name": "python3"
  },
  "language_info": {
   "codemirror_mode": {
    "name": "ipython",
    "version": 3
   },
   "file_extension": ".py",
   "mimetype": "text/x-python",
   "name": "python",
   "nbconvert_exporter": "python",
   "pygments_lexer": "ipython3",
   "version": "3.11.4"
  }
 },
 "nbformat": 4,
 "nbformat_minor": 2
}
